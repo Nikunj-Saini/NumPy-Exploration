{
 "cells": [ 
  {
   "cell_type": "code",
   "execution_count": 1,
   "id": "de19beff-ba5f-455c-b501-3bd56889de6f",
   "metadata": {},
   "outputs": [],
   "source": [
    "import numpy as np "
   ]
  },
  {
   "cell_type": "markdown",
   "id": "97b17371-c47f-4174-af4b-ed00dbf32b9c",
   "metadata": {},
   "source": [
    "1. Element-wise Arithmetic"
   ]
  },
  {
   "cell_type": "code",
   "execution_count": 4,
   "id": "2924ef3e-b895-48cb-aa53-f085ea270827",
   "metadata": {},
   "outputs": [
    {
     "name": "stdout",
     "output_type": "stream",
     "text": [
      "[ 16  44 100]\n",
      "[-14 -26 -92]\n",
      "[ 15 315 384]\n",
      "[0.06666667 0.25714286 0.04166667]\n"
     ]
    }
   ],
   "source": [
    "a = np.array([1,9,4])\n",
    "b = np.array([15,35,96])\n",
    "\n",
    "print(a + b)\n",
    "print(a-b)\n",
    "print(a*b)\n",
    "print(a/b)\n"
   ]
  },
  {
   "cell_type": "markdown",
   "id": "64673666-2fb3-4cad-8ec1-4c0db2656377",
   "metadata": {},
   "source": [
    "2. Array with Scalars"
   ]
  },
  {
   "cell_type": "code",
   "execution_count": 5,
   "id": "7515f581-9c91-499a-987a-93b22c3b5578",
   "metadata": {},
   "outputs": [
    {
     "name": "stdout",
     "output_type": "stream",
     "text": [
      "[11 19 14]\n",
      "[ 30  70 192]\n"
     ]
    }
   ],
   "source": [
    "print(a + 10)\n",
    "print(b * 2 )"
   ]
  },
  {
   "cell_type": "markdown",
   "id": "d58f20b1-7050-4b9e-b8c6-c5e17d303eb7",
   "metadata": {},
   "source": [
    "3.Comparison Operators (Boolean Arrays)"
   ]
  },
  {
   "cell_type": "code",
   "execution_count": 7,
   "id": "57526b34-3ffa-4d99-88f4-f072a75fe37c",
   "metadata": {},
   "outputs": [
    {
     "name": "stdout",
     "output_type": "stream",
     "text": [
      "[False  True False]\n",
      "[False False False]\n"
     ]
    }
   ],
   "source": [
    "print(a > 5)   \n",
    "print(b == 2) "
   ]
  },
  {
   "cell_type": "markdown",
   "id": "841071a9-f636-4c0a-83d8-d9c69621a2c5",
   "metadata": {},
   "source": [
    "4. Aggregate Functions (Statistics)"
   ]
  },
  {
   "cell_type": "code",
   "execution_count": 8,
   "id": "a48c598c-eec2-4906-b14f-43cb94c56cd3",
   "metadata": {},
   "outputs": [
    {
     "name": "stdout",
     "output_type": "stream",
     "text": [
      "45\n",
      "5.0\n",
      "2.581988897471611\n",
      "1\n",
      "9\n"
     ]
    }
   ],
   "source": [
    "matrix = np.array([ [1, 2, 3],[4, 5, 6],[7, 8, 9]])\n",
    "\n",
    "print(matrix.sum())      \n",
    "print(matrix.mean())    \n",
    "print(matrix.std())      \n",
    "print(matrix.min())      \n",
    "print(matrix.max())      \n"
   ]
  },
  {
   "cell_type": "markdown",
   "id": "ff84b2ce-59c4-4fef-ba63-66c0812e1f96",
   "metadata": {},
   "source": [
    "5. Axis-Wise Operations"
   ]
  },
  {
   "cell_type": "markdown",
   "id": "cef555ae-2d32-4107-a728-38fac29f2d72",
   "metadata": {},
   "source": [
    "######  Axis = 0 for  column-wise\n",
    "######  Axis = 1 for  row-wise"
   ]
  },
  {
   "cell_type": "code",
   "execution_count": 9,
   "id": "7ee23161-8e18-423f-a15e-abb6ec085f8a",
   "metadata": {},
   "outputs": [
    {
     "name": "stdout",
     "output_type": "stream",
     "text": [
      "[12 15 18]\n",
      "[ 6 15 24]\n"
     ]
    }
   ],
   "source": [
    "print(matrix.sum(axis=0))     # [12 15 18] → column-wise sum\n",
    "print(matrix.sum(axis=1))     # [6 15 24] → row-wise sum\n"
   ]
  },
  {
   "cell_type": "markdown",
   "id": "aadc7ceb-f12c-459f-93df-3ceaedb5e68f",
   "metadata": {},
   "source": [
    " 6. Broadcasting - Broadcasting lets you perform operations between arrays of different shapes"
   ]
  },
  {
   "cell_type": "code",
   "execution_count": 10,
   "id": "877db9ec-6a58-488e-97f5-26728b573f24",
   "metadata": {},
   "outputs": [
    {
     "name": "stdout",
     "output_type": "stream",
     "text": [
      "[11 12 13]\n"
     ]
    }
   ],
   "source": [
    "a = np.array([1, 2, 3])\n",
    "b = 10\n",
    "\n",
    "print(a + b)   \n"
   ]
  },
  {
   "cell_type": "code",
   "execution_count": 11,
   "id": "f6d64485-86bd-4ade-9ce2-7a6bea02209a",
   "metadata": {},
   "outputs": [
    {
     "name": "stdout",
     "output_type": "stream",
     "text": [
      "[[11 12 13]\n",
      " [14 15 16]]\n"
     ]
    }
   ],
   "source": [
    "m = np.array([[1, 2, 3],[4, 5, 6]])\n",
    "\n",
    "print(m + 10) \n"
   ]
  },
  {
   "cell_type": "code",
   "execution_count": 12,
   "id": "b26db290-eee9-46ac-a4ba-a6ca95797d6d",
   "metadata": {},
   "outputs": [
    {
     "name": "stdout",
     "output_type": "stream",
     "text": [
      "[[2 3 4]\n",
      " [6 7 8]]\n"
     ]
    }
   ],
   "source": [
    "col = np.array([[1], [2]])\n",
    "print(m + col)\n"
   ]
  },
  {
   "cell_type": "code",
   "execution_count": null,
   "id": "ed09258d-d835-4784-98a7-0336d5558ee6",
   "metadata": {},
   "outputs": [],
   "source": []
  }
 ],
 "metadata": {
  "kernelspec": {
   "display_name": "Python 3 (ipykernel)",
   "language": "python",
   "name": "python3"
  },
  "language_info": {
   "codemirror_mode": {
    "name": "ipython",
    "version": 3
   },
   "file_extension": ".py",
   "mimetype": "text/x-python",
   "name": "python",
   "nbconvert_exporter": "python",
   "pygments_lexer": "ipython3",
   "version": "3.13.0"
  }
 },
 "nbformat": 4,
 "nbformat_minor": 5
}
