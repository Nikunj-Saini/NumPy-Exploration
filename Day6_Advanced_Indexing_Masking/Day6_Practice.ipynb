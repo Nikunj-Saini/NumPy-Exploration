{
 "cells": [
  {
   "cell_type": "markdown",
   "id": "afc05747-b373-4637-bdf7-2faba05746a8",
   "metadata": {},
   "source": [
    "# Practice Questions"
   ]
  },
  {
   "cell_type": "markdown",
   "id": "7e48f01d-afb6-4908-a3f8-dd7bd4499aeb",
   "metadata": {},
   "source": [
    "### 1) Create an array of numbers 0–50.\n",
    "### Extract all even numbers using boolean indexing."
   ]
  },
  {
   "cell_type": "code",
   "execution_count": 13,
   "id": "c271fa60-9085-4ba7-b495-804e372198da",
   "metadata": {},
   "outputs": [],
   "source": [
    "import numpy as np "
   ]
  },
  {
   "cell_type": "code",
   "execution_count": 14,
   "id": "b6247e98-9de3-4778-b7a9-7c9d3438ab58",
   "metadata": {},
   "outputs": [
    {
     "name": "stdout",
     "output_type": "stream",
     "text": [
      "[ 0  1  2  3  4  5  6  7  8  9 10 11 12 13 14 15 16 17 18 19 20 21 22 23\n",
      " 24 25 26 27 28 29 30 31 32 33 34 35 36 37 38 39 40 41 42 43 44 45 46 47\n",
      " 48 49 50]\n"
     ]
    }
   ],
   "source": [
    "a = np.arange(0,51)\n",
    "print(a)"
   ]
  },
  {
   "cell_type": "code",
   "execution_count": 15,
   "id": "3f461af8-e2f1-40ec-91fe-2e524c977604",
   "metadata": {},
   "outputs": [
    {
     "name": "stdout",
     "output_type": "stream",
     "text": [
      "[ 0  2  4  6  8 10 12 14 16 18 20 22 24 26 28 30 32 34 36 38 40 42 44 46\n",
      " 48 50]\n"
     ]
    }
   ],
   "source": [
    "even = a % 2 ==0\n",
    "print(a[even])"
   ]
  },
  {
   "cell_type": "markdown",
   "id": "b2c86c07-cd3d-4446-9990-8f0738749a4e",
   "metadata": {},
   "source": [
    "### 2) Given a 1D array of marks, extract only the values > 75.\n",
    "### Replace values < 35 with 0 using np.where()."
   ]
  },
  {
   "cell_type": "code",
   "execution_count": 16,
   "id": "efeb3ada-1425-45f9-b9b9-5ba9f7174d0f",
   "metadata": {},
   "outputs": [
    {
     "name": "stdout",
     "output_type": "stream",
     "text": [
      "[78 90 88]\n"
     ]
    }
   ],
   "source": [
    "marks = np.array([23, 45, 78, 34, 90, 12, 67, 88])\n",
    "good_marks = marks > 75 \n",
    "print(marks[good_marks])\n"
   ]
  },
  {
   "cell_type": "code",
   "execution_count": 17,
   "id": "59fd39b3-d792-464b-83ef-acf491bd5476",
   "metadata": {},
   "outputs": [
    {
     "name": "stdout",
     "output_type": "stream",
     "text": [
      "[ 0 45 78  0 90  0 67 88]\n"
     ]
    }
   ],
   "source": [
    "print(np.where(marks <35 , 0 ,marks))"
   ]
  },
  {
   "cell_type": "markdown",
   "id": "f70353cf-bb72-4d7f-bd68-102713a9a377",
   "metadata": {},
   "source": [
    "### 3)  Create a mask to select values between 20 and 80 from a random 1D array of 15 numbers."
   ]
  },
  {
   "cell_type": "code",
   "execution_count": 19,
   "id": "7505cda6-9336-4a21-9141-ceca800c72b6",
   "metadata": {},
   "outputs": [
    {
     "name": "stdout",
     "output_type": "stream",
     "text": [
      "[51 71 60 74 74 23 21]\n"
     ]
    }
   ],
   "source": [
    "a = np.array([51,92,14,71,60,20,82,86,74,74,87,99,23,2,21])\n",
    "print(a[(a > 20) & (a < 80)])\n"
   ]
  },
  {
   "cell_type": "markdown",
   "id": "534a1020-d650-4a04-acd3-46a74fd1d0ff",
   "metadata": {},
   "source": [
    "4) ###  In a 2D array of shape (4, 4), replace all values > 10 with -1"
   ]
  },
  {
   "cell_type": "code",
   "execution_count": 20,
   "id": "ad9fc48e-44e9-4409-bde7-6de7016c3570",
   "metadata": {},
   "outputs": [
    {
     "name": "stdout",
     "output_type": "stream",
     "text": [
      "[[ 3 -1 -1 -1]\n",
      " [ 0  8 -1  6]\n",
      " [ 0  1  7 -1]\n",
      " [-1  5  6  7]]\n"
     ]
    }
   ],
   "source": [
    "arr = np.random.randint(0, 21, size=(4, 4))\n",
    "arr[arr > 10] = -1\n",
    "\n",
    "print(arr)\n"
   ]
  },
  {
   "cell_type": "code",
   "execution_count": null,
   "id": "ae08e0b0-a7ee-49ce-a492-8be6d268ad76",
   "metadata": {},
   "outputs": [],
   "source": []
  }
 ],
 "metadata": {
  "kernelspec": {
   "display_name": "Python 3 (ipykernel)",
   "language": "python",
   "name": "python3"
  },
  "language_info": {
   "codemirror_mode": {
    "name": "ipython",
    "version": 3
   },
   "file_extension": ".py",
   "mimetype": "text/x-python",
   "name": "python",
   "nbconvert_exporter": "python",
   "pygments_lexer": "ipython3",
   "version": "3.13.0"
  }
 },
 "nbformat": 4,
 "nbformat_minor": 5
}
