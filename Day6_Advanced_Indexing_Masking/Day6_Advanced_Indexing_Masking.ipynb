{
 "cells": [
  {
   "cell_type": "markdown",
   "id": "d53a2477-1be5-4bd8-8454-558630ac0cb0",
   "metadata": {},
   "source": [
    "## 1. Integer Array Indexing"
   ]
  },
  {
   "cell_type": "code",
   "execution_count": 5,
   "id": "83d9dbf7-c1a6-4c97-9b55-54fc5d6e5931",
   "metadata": {},
   "outputs": [
    {
     "name": "stdout",
     "output_type": "stream",
     "text": [
      "[10 30 40]\n"
     ]
    }
   ],
   "source": [
    "import numpy as np \n",
    "\n",
    "\n",
    "a = np.array([10,20,30,40,50,60])\n",
    "index = [0,2,3]\n",
    "\n",
    "print(a[index])"
   ]
  },
  {
   "cell_type": "markdown",
   "id": "a71f2ec8-51d1-4a7d-89f7-18a47a126d37",
   "metadata": {},
   "source": [
    "##  2. Boolean Indexing / Masking"
   ]
  },
  {
   "cell_type": "code",
   "execution_count": 10,
   "id": "7163fe91-d587-4c4f-8633-f05a39d9995a",
   "metadata": {},
   "outputs": [
    {
     "name": "stdout",
     "output_type": "stream",
     "text": [
      "[False False False  True  True  True]\n",
      "[4 5 6]\n"
     ]
    }
   ],
   "source": [
    "niku = np.array([1,2,3,4,5,6])\n",
    "mask = niku > 3\n",
    "print(mask)\n",
    "print(niku[mask])"
   ]
  },
  {
   "cell_type": "markdown",
   "id": "673f5e24-ce36-430a-9042-81efbdb5b674",
   "metadata": {},
   "source": [
    "##  3. Using np.where()"
   ]
  },
  {
   "cell_type": "code",
   "execution_count": 13,
   "id": "16be2cdb-0e20-4970-9056-1805c42901b3",
   "metadata": {},
   "outputs": [
    {
     "name": "stdout",
     "output_type": "stream",
     "text": [
      "(array([3, 4]),)\n",
      "[ 1  2  3 99 99]\n"
     ]
    }
   ],
   "source": [
    "a = np.array([1, 2, 3, 4, 5])\n",
    "\n",
    "# Get index positions\n",
    "print(np.where(a > 3))  \n",
    "\n",
    "# Replace: if > 3 → 99, else → original\n",
    "print(np.where(a > 3, 99, a)) \n"
   ]
  },
  {
   "cell_type": "markdown",
   "id": "be4c8e24-8843-4d32-aa58-fc33a0df9101",
   "metadata": {},
   "source": [
    "##  4. Multiple Conditions"
   ]
  },
  {
   "cell_type": "code",
   "execution_count": 14,
   "id": "e6cda04e-6307-43e0-b32c-35059b724a56",
   "metadata": {},
   "outputs": [
    {
     "name": "stdout",
     "output_type": "stream",
     "text": [
      "[20 25]\n",
      "[10 15 20]\n"
     ]
    }
   ],
   "source": [
    "a = np.array([10, 15, 20, 25, 30])\n",
    "\n",
    "# Value that is between 15 and < 30\n",
    "print(a[(a > 15) & (a < 30)])  # [20 25]\n",
    "\n",
    "# By using the Not operator\n",
    "print(a[~(a > 20)])  # [10 15 20]\n"
   ]
  },
  {
   "cell_type": "markdown",
   "id": "b43843b5-1cd5-4f59-8fc3-75891a4cda94",
   "metadata": {},
   "source": [
    "## 5. Fancy Indexing (2D Arrays)"
   ]
  },
  {
   "cell_type": "code",
   "execution_count": 16,
   "id": "30c2d530-6dd9-4afe-aa07-27027acf10b0",
   "metadata": {},
   "outputs": [
    {
     "name": "stdout",
     "output_type": "stream",
     "text": [
      "[2 3 6]\n"
     ]
    }
   ],
   "source": [
    "a = np.array([[1, 2],\n",
    "              [3, 4],\n",
    "              [5, 6]])\n",
    "\n",
    "\n",
    "print(a[[0, 1, 2], [1, 0, 1]])  # [2 3 6]\n"
   ]
  },
  {
   "cell_type": "code",
   "execution_count": null,
   "id": "67a66524-8278-4d2a-9b2c-cdbdbca3cdcf",
   "metadata": {},
   "outputs": [],
   "source": []
  }
 ],
 "metadata": {
  "kernelspec": {
   "display_name": "Python 3 (ipykernel)",
   "language": "python",
   "name": "python3"
  },
  "language_info": {
   "codemirror_mode": {
    "name": "ipython",
    "version": 3
   },
   "file_extension": ".py",
   "mimetype": "text/x-python",
   "name": "python",
   "nbconvert_exporter": "python",
   "pygments_lexer": "ipython3",
   "version": "3.13.0"
  }
 },
 "nbformat": 4,
 "nbformat_minor": 5
}
