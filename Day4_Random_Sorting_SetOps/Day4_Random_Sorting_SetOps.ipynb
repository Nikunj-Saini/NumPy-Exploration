{ 
 "cells": [
  {
   "cell_type": "code",
   "execution_count": 1,
   "id": "c65ac71e-c67d-4169-a461-3fab708b8b20",
   "metadata": {},
   "outputs": [],
   "source": [
    "import numpy as np "
   ]
  },
  {
   "cell_type": "markdown",
   "id": "e31e6071-6234-41ba-948a-5dfda6a961cb",
   "metadata": {},
   "source": [
    " ## 1. Random Number Generation (np.random)"
   ]
  },
  {
   "cell_type": "markdown",
   "id": "05c9eebf-d548-44d1-9569-dec35c192a44",
   "metadata": {},
   "source": [
    "Random integers between 1–100"
   ]
  },
  {
   "cell_type": "code",
   "execution_count": 7,
   "id": "c64a2b2b-59b9-4565-84f8-0c1cb6b38702",
   "metadata": {},
   "outputs": [
    {
     "name": "stdout",
     "output_type": "stream",
     "text": [
      "[85 43 40 75 99]\n"
     ]
    }
   ],
   "source": [
    "random = np.random.randint(1,100,size = 5)\n",
    "print(random)"
   ]
  },
  {
   "cell_type": "markdown",
   "id": "951b5032-4a86-413d-8a70-6e729c67924d",
   "metadata": {},
   "source": [
    "Random floats between 0–1"
   ]
  },
  {
   "cell_type": "code",
   "execution_count": 8,
   "id": "7bb6f7a0-6410-4767-a64c-41f9b50ef9c5",
   "metadata": {},
   "outputs": [
    {
     "name": "stdout",
     "output_type": "stream",
     "text": [
      "[0.3058688  0.45611586 0.41458154 0.44712824]\n"
     ]
    }
   ],
   "source": [
    "random_float = np.random.rand(4)\n",
    "print(random_float)"
   ]
  },
  {
   "cell_type": "markdown",
   "id": "1159e56e-282b-46a5-ad11-b4d9de220479",
   "metadata": {},
   "source": [
    "Random 2D array of ints"
   ]
  },
  {
   "cell_type": "code",
   "execution_count": 9,
   "id": "fc47fc3e-721c-4aee-89af-1d4654946ac2",
   "metadata": {},
   "outputs": [
    {
     "name": "stdout",
     "output_type": "stream",
     "text": [
      "[[9 1 4]\n",
      " [4 1 3]\n",
      " [7 8 1]]\n"
     ]
    }
   ],
   "source": [
    "random_matrix = np.random.randint(1,10, size = (3,3))\n",
    "print(random_matrix)\n"
   ]
  },
  {
   "cell_type": "markdown",
   "id": "0d0d36bf-0958-440b-b2a8-a44d1732eb01",
   "metadata": {},
   "source": [
    "## 2. Reproducibility with np.random.seed()"
   ]
  },
  {
   "cell_type": "code",
   "execution_count": 13,
   "id": "c56a4290-b020-4cbf-82d5-1ee64310dcb8",
   "metadata": {},
   "outputs": [
    {
     "name": "stdout",
     "output_type": "stream",
     "text": [
      "[0.49460165 0.2280831  0.25547392]\n"
     ]
    }
   ],
   "source": [
    "np.random.seed(50)\n",
    "print(np.random.rand(3))"
   ]
  },
  {
   "cell_type": "markdown",
   "id": "337603bb-485d-4baa-9e7f-87d65aca6b7f",
   "metadata": {},
   "source": [
    "## 3. Shuffling Arrays"
   ]
  },
  {
   "cell_type": "code",
   "execution_count": 15,
   "id": "a83c6aef-51ec-43a9-ac7f-c21d120f4600",
   "metadata": {},
   "outputs": [
    {
     "name": "stdout",
     "output_type": "stream",
     "text": [
      "[45 12 23 34 56]\n"
     ]
    }
   ],
   "source": [
    "niku_1 = np.array([12,23,34,45,56])\n",
    "np.random.shuffle(niku_1)\n",
    "print(niku_1)"
   ]
  },
  {
   "cell_type": "markdown",
   "id": "74c38b63-af2e-4917-ac95-7bc0d2552174",
   "metadata": {},
   "source": [
    "##  4. Sorting Arrays"
   ]
  },
  {
   "cell_type": "code",
   "execution_count": 25,
   "id": "840b7692-c65a-4f20-8857-496a42e35d06",
   "metadata": {},
   "outputs": [
    {
     "name": "stdout",
     "output_type": "stream",
     "text": [
      "[ 0  2  3  4  5  6  7  8  9 34 45 56 67 78 89]\n"
     ]
    }
   ],
   "source": [
    "a = np.array([89,78,67,56,45,34,2,3,4,5,6,7,8,9,0])\n",
    "\n",
    "print(np.sort(a))"
   ]
  },
  {
   "cell_type": "markdown",
   "id": "dc501d1a-5b0e-41eb-a595-5338b038078b",
   "metadata": {},
   "source": [
    " FOR 2D array"
   ]
  },
  {
   "cell_type": "code",
   "execution_count": 24,
   "id": "cfd9e57d-f061-4225-ad45-d3fd1af93ba9",
   "metadata": {},
   "outputs": [
    {
     "name": "stdout",
     "output_type": "stream",
     "text": [
      "[[5 3 2]\n",
      " [9 8 6]]\n",
      "[[2 5 8]\n",
      " [3 6 9]]\n"
     ]
    }
   ],
   "source": [
    "b = np.array([[5,8,2],[9,3,6]])\n",
    "\n",
    "print(np.sort(b,axis = 0))\n",
    "print(np.sort(b,axis = 1))"
   ]
  },
  {
   "cell_type": "markdown",
   "id": "daa5d460-8a8d-489c-bcf5-bcc2901febfb",
   "metadata": {},
   "source": [
    "## 5. Set Operations"
   ]
  },
  {
   "cell_type": "markdown",
   "id": "6ad3ec84-da9b-4332-8c44-040b6febf337",
   "metadata": {},
   "source": [
    " Unique Elements"
   ]
  },
  {
   "cell_type": "code",
   "execution_count": 23,
   "id": "4f65e2fe-eb68-4480-b1b7-08907f8f4f30",
   "metadata": {},
   "outputs": [
    {
     "name": "stdout",
     "output_type": "stream",
     "text": [
      "[1 2 3 4]\n"
     ]
    }
   ],
   "source": [
    "arr = np.array([1, 2, 3, 1, 2, 4])\n",
    "\n",
    "print(np.unique(arr))  "
   ]
  },
  {
   "cell_type": "markdown",
   "id": "483431b8-17f5-46f8-9a80-ae61007fd6bf",
   "metadata": {},
   "source": [
    " Intersection, Union, Difference"
   ]
  },
  {
   "cell_type": "code",
   "execution_count": 22,
   "id": "12a8bde6-49dc-4361-9427-f4b8a2d5ab48",
   "metadata": {},
   "outputs": [
    {
     "name": "stdout",
     "output_type": "stream",
     "text": [
      "[3 4]\n",
      "[1 2 3 4 5 6]\n",
      "[1 2]\n"
     ]
    }
   ],
   "source": [
    "a = np.array([1, 2, 3, 4])\n",
    "b = np.array([3, 4, 5, 6])\n",
    "\n",
    "print(np.intersect1d(a, b))   \n",
    "print(np.union1d(a, b))       \n",
    "print(np.setdiff1d(a, b))     \n"
   ]
  },
  {
   "cell_type": "code",
   "execution_count": null,
   "id": "3a2ee181-5f97-4e5d-916f-aaf14af7c00f",
   "metadata": {},
   "outputs": [],
   "source": []
  }
 ],
 "metadata": {
  "kernelspec": {
   "display_name": "Python 3 (ipykernel)",
   "language": "python",
   "name": "python3"
  },
  "language_info": {
   "codemirror_mode": {
    "name": "ipython",
    "version": 3
   },
   "file_extension": ".py",
   "mimetype": "text/x-python",
   "name": "python",
   "nbconvert_exporter": "python",
   "pygments_lexer": "ipython3",
   "version": "3.13.0"
  }
 },
 "nbformat": 4,
 "nbformat_minor": 5
}
