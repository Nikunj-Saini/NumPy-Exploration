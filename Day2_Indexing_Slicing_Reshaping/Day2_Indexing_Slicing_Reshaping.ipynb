{
 "cells": [
  {
   "cell_type": "code",
   "execution_count": 1,
   "id": "2f2aeb40-a1db-4f1e-a69a-71cb9937499a",
   "metadata": {},
   "outputs": [],
   "source": [
    "import numpy as np\n"
   ]
  },
  {
   "cell_type": "markdown",
   "id": "fde6a2fa-65e7-4abc-8ffd-8679aaa0294f",
   "metadata": {},
   "source": [
    "## Indexing in Numpy"
   ]
  },
  {
   "cell_type": "markdown",
   "id": "1132c449-b0eb-4e2e-b7c9-743e1963878e",
   "metadata": {},
   "source": [
    "1 D Array Indexing "
   ]
  },
  {
   "cell_type": "code",
   "execution_count": 3,
   "id": "5eb92714-8fea-4b36-b9c7-e058d5684cc3",
   "metadata": {},
   "outputs": [
    {
     "name": "stdout",
     "output_type": "stream",
     "text": [
      "10\n",
      "50\n",
      "30\n"
     ]
    }
   ],
   "source": [
    "arr1  = np.array([10,20,30,40,50])\n",
    "print(arr1[0]) # it will access first element \n",
    "print(arr1[-1]) #  it will access last element \n",
    "print(arr1[-3]) # it will access last 3rd element and so on .\n"
   ]
  },
  {
   "cell_type": "markdown",
   "id": "9565718b-8b42-4783-ad32-62dbbaf60d00",
   "metadata": {},
   "source": [
    "2D Array Indexing"
   ]
  },
  {
   "cell_type": "code",
   "execution_count": 4,
   "id": "5a7d9ce8-613d-413d-bc85-a03cdc60ff19",
   "metadata": {},
   "outputs": [
    {
     "name": "stdout",
     "output_type": "stream",
     "text": [
      "1\n",
      "8\n"
     ]
    }
   ],
   "source": [
    "arr2 = np.array([[1, 2, 3],[4, 5, 6],[7, 8, 9]])\n",
    "\n",
    "print(arr2[0, 0])  \n",
    "print(arr2[2, 1])\n"
   ]
  },
  {
   "cell_type": "markdown",
   "id": "a994cac9-769b-4486-9387-9687bbc87f6b",
   "metadata": {},
   "source": [
    "## Slicing in NumPy"
   ]
  },
  {
   "cell_type": "markdown",
   "id": "57dcb44e-1ef1-44c0-9ada-2e31ab71e0e2",
   "metadata": {},
   "source": [
    "1D Array Slicing"
   ]
  },
  {
   "cell_type": "code",
   "execution_count": 7,
   "id": "460f1cdf-7293-48a4-a1bd-16a181c1d878",
   "metadata": {},
   "outputs": [
    {
     "name": "stdout",
     "output_type": "stream",
     "text": [
      "[20 30 40]\n",
      "[10 20 30]\n",
      "[30 40 50]\n"
     ]
    }
   ],
   "source": [
    "print(arr1[1:4])    \n",
    "print(arr1[:3])   \n",
    "print(arr1[-3:])  \n"
   ]
  },
  {
   "cell_type": "markdown",
   "id": "d478f39e-47b8-4544-9bc7-f8a2b96b8581",
   "metadata": {},
   "source": [
    "2D Array Slicing"
   ]
  },
  {
   "cell_type": "code",
   "execution_count": 11,
   "id": "85a35627-4e89-4736-af02-0adabbf3e60e",
   "metadata": {},
   "outputs": [
    {
     "name": "stdout",
     "output_type": "stream",
     "text": [
      "[[2 3]\n",
      " [5 6]]\n"
     ]
    }
   ],
   "source": [
    "#  2x2 subarray\n",
    "print(arr2[0:2, 1:3])\n"
   ]
  },
  {
   "cell_type": "markdown",
   "id": "d51e1fd7-85e1-426c-a1d5-39abcb626eaf",
   "metadata": {},
   "source": [
    "## Reshaping Arrays"
   ]
  },
  {
   "cell_type": "code",
   "execution_count": 12,
   "id": "183b6e16-10df-4d57-82fe-9f13d8c3ea35",
   "metadata": {},
   "outputs": [
    {
     "name": "stdout",
     "output_type": "stream",
     "text": [
      "[[ 1  2  3  4]\n",
      " [ 5  6  7  8]\n",
      " [ 9 10 11 12]]\n"
     ]
    }
   ],
   "source": [
    "arr = np.arange(1, 13)       \n",
    "reshaped = arr.reshape(3, 4)  \n",
    "print(reshaped)\n"
   ]
  },
  {
   "cell_type": "markdown",
   "id": "8733c6ae-d5da-424f-a786-53346ba6e9ac",
   "metadata": {},
   "source": [
    "## Flatten and Ravel"
   ]
  },
  {
   "cell_type": "code",
   "execution_count": 14,
   "id": "8dd28b12-5e8a-415b-8b68-d982f177d5eb",
   "metadata": {},
   "outputs": [],
   "source": [
    "#flatten() – Returns a copy of the array as 1D"
   ]
  },
  {
   "cell_type": "code",
   "execution_count": 13,
   "id": "48b8e139-2aa4-4133-b586-11ac54144a85",
   "metadata": {},
   "outputs": [
    {
     "name": "stdout",
     "output_type": "stream",
     "text": [
      "[ 1  2  3  4  5  6  7  8  9 10 11 12]\n"
     ]
    }
   ],
   "source": [
    "flat = reshaped.flatten()\n",
    "print(flat)\n"
   ]
  },
  {
   "cell_type": "code",
   "execution_count": 15,
   "id": "7e208b09-9ec5-42f0-807d-0c19822e3a26",
   "metadata": {},
   "outputs": [],
   "source": [
    "#.ravel() – Returns a view (changes affect original)"
   ]
  },
  {
   "cell_type": "code",
   "execution_count": 16,
   "id": "182ea47a-323a-4a64-b9a7-bbbd6e734d48",
   "metadata": {},
   "outputs": [
    {
     "name": "stdout",
     "output_type": "stream",
     "text": [
      "[ 1  2  3  4  5  6  7  8  9 10 11 12]\n"
     ]
    }
   ],
   "source": [
    "flat2 = reshaped.ravel()\n",
    "print(flat2)\n"
   ]
  },
  {
   "cell_type": "markdown",
   "id": "68ac9563-dddf-4623-bb11-01052bb1f65f",
   "metadata": {},
   "source": [
    "## Transpose "
   ]
  },
  {
   "cell_type": "code",
   "execution_count": 17,
   "id": "e201e761-f55d-45fc-9f34-3f959411ee40",
   "metadata": {},
   "outputs": [
    {
     "name": "stdout",
     "output_type": "stream",
     "text": [
      "[[ 1  5  9]\n",
      " [ 2  6 10]\n",
      " [ 3  7 11]\n",
      " [ 4  8 12]]\n"
     ]
    }
   ],
   "source": [
    "print(reshaped.T)\n"
   ]
  },
  {
   "cell_type": "markdown",
   "id": "a7b049cc",
   "metadata": {},
   "source": []
  }
 ],
 "metadata": {
  "kernelspec": {
   "display_name": "Python 3 (ipykernel)",
   "language": "python",
   "name": "python3"
  },
  "language_info": {
   "codemirror_mode": {
    "name": "ipython",
    "version": 3
   },
   "file_extension": ".py",
   "mimetype": "text/x-python",
   "name": "python",
   "nbconvert_exporter": "python",
   "pygments_lexer": "ipython3",
   "version": "3.13.0"
  }
 },
 "nbformat": 4,
 "nbformat_minor": 5
}
