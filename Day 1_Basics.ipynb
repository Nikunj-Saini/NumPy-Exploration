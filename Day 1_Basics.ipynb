{
 "cells": [
  {
   "cell_type": "markdown",
   "id": "1a3ecd67-ef72-430a-a90b-3c063bb06171",
   "metadata": {},
   "source": [
    "## WHAT IS NUMPY ??"
   ]
  },
  {
   "cell_type": "code",
   "execution_count": 1,
   "id": "6ab90260-aff4-40cc-9ac4-33a0c1f8eba8",
   "metadata": {},
   "outputs": [
    {
     "ename": "SyntaxError",
     "evalue": "invalid syntax (2246341586.py, line 1)",
     "output_type": "error",
     "traceback": [
      "  \u001b[36mCell\u001b[39m\u001b[36m \u001b[39m\u001b[32mIn[1]\u001b[39m\u001b[32m, line 1\u001b[39m\n\u001b[31m    \u001b[39m\u001b[31mNumPy is a library for numerical computing in Python. It provides a powerful N-dimensional array object and useful functions for performing mathematical operations efficiently.\u001b[39m\n               ^\n\u001b[31mSyntaxError\u001b[39m\u001b[31m:\u001b[39m invalid syntax\n"
     ]
    }
   ],
   "source": [
    "NumPy is a library for numerical computing in Python. It provides a powerful N-dimensional array object and useful functions for performing mathematical operations efficiently.\n"
   ]
  },
  {
   "cell_type": "markdown",
   "id": "cb1331be-90a0-4b8e-bb53-afebe3b9e56b",
   "metadata": {},
   "source": [
    "## IMPORTING THE LIBERARY\n"
   ]
  },
  {
   "cell_type": "code",
   "execution_count": 3,
   "id": "17db1d47-f3ca-422f-83f2-89e21a4b7ce6",
   "metadata": {},
   "outputs": [],
   "source": [
    "import numpy as np "
   ]
  },
  {
   "cell_type": "markdown",
   "id": "4db84886-dd6f-4489-b980-36d3de480155",
   "metadata": {},
   "source": [
    "## Creating 1D , 2D and 3D Array"
   ]
  },
  {
   "cell_type": "code",
   "execution_count": 4,
   "id": "b4b911ed-56f2-4ff2-a955-92fba78ac4e9",
   "metadata": {},
   "outputs": [
    {
     "name": "stdout",
     "output_type": "stream",
     "text": [
      " 1d array  [1 2 3]\n",
      "2d array [[1 2]\n",
      " [3 4]]\n",
      "3d array [[[1 2]\n",
      "  [3 4]]\n",
      "\n",
      " [[5 6]\n",
      "  [7 8]]]\n"
     ]
    }
   ],
   "source": [
    "a = np.array([1,2,3])\n",
    "print(\" 1d array \",a)\n",
    "\n",
    "\n",
    "\n",
    "#2d array\n",
    "b = np.array([[1,2],[3,4]])\n",
    "\n",
    "print(\"2d array\",b)\n",
    "\n",
    "\n",
    "#3d array\n",
    "c = np.array([[[1, 2], [3, 4]], [[5, 6], [7, 8]]])\n",
    "print(\"3d array\",c)"
   ]
  },
  {
   "cell_type": "code",
   "execution_count": 7,
   "id": "eb3291b8-eff0-4a9b-9272-d8c6583ca8a0",
   "metadata": {},
   "outputs": [
    {
     "name": "stdout",
     "output_type": "stream",
     "text": [
      "[[1. 1.]\n",
      " [1. 1.]\n",
      " [1. 1.]]\n"
     ]
    }
   ],
   "source": [
    "ones_array = np.ones((3, 2))\n",
    "print(ones_array)"
   ]
  },
  {
   "cell_type": "markdown",
   "id": "4eae10f7-6392-42c1-81a9-43a6dac789a2",
   "metadata": {},
   "source": [
    "## zeros_array"
   ]
  },
  {
   "cell_type": "code",
   "execution_count": 6,
   "id": "0c39e8cd-6562-45ce-8ab4-5d9aad3f48da",
   "metadata": {},
   "outputs": [
    {
     "name": "stdout",
     "output_type": "stream",
     "text": [
      "[[0. 0. 0.]\n",
      " [0. 0. 0.]]\n"
     ]
    }
   ],
   "source": [
    "zeros_array = np.zeros((2, 3))\n",
    "print(zeros_array)"
   ]
  },
  {
   "cell_type": "code",
   "execution_count": 8,
   "id": "dc8cdf45-b11c-4103-8379-b7ae3f97d1ca",
   "metadata": {},
   "outputs": [
    {
     "name": "stdout",
     "output_type": "stream",
     "text": [
      "[0 2 4 6 8]\n"
     ]
    }
   ],
   "source": [
    "range_array = np.arange(0, 10, 2)\n",
    "print(range_array)"
   ]
  },
  {
   "cell_type": "code",
   "execution_count": 9,
   "id": "53139855-8bab-49e3-a4cd-8a8ecba692bb",
   "metadata": {},
   "outputs": [
    {
     "name": "stdout",
     "output_type": "stream",
     "text": [
      "[0.   0.25 0.5  0.75 1.  ]\n"
     ]
    }
   ],
   "source": [
    "linspace_array = np.linspace(0, 1, 5)\n",
    "print(linspace_array)"
   ]
  },
  {
   "cell_type": "markdown",
   "id": "583062a7-859a-4d1c-b882-31f4b2c3745d",
   "metadata": {},
   "source": [
    "## identity_matrix"
   ]
  },
  {
   "cell_type": "code",
   "execution_count": 10,
   "id": "1dcd42c5-5012-4aa1-982f-3ad82b81872e",
   "metadata": {},
   "outputs": [
    {
     "name": "stdout",
     "output_type": "stream",
     "text": [
      "[[1. 0. 0.]\n",
      " [0. 1. 0.]\n",
      " [0. 0. 1.]]\n"
     ]
    }
   ],
   "source": [
    "identity_matrix = np.eye(3)\n",
    "print(identity_matrix)"
   ]
  },
  {
   "cell_type": "markdown",
   "id": "df96fbef-04bc-4d7b-810a-922c3dbab1d3",
   "metadata": {},
   "source": [
    "## ARRAY PROPERTIES "
   ]
  },
  {
   "cell_type": "code",
   "execution_count": 5,
   "id": "cbd7e6db-4679-46f1-a374-6049f0fe103e",
   "metadata": {},
   "outputs": [
    {
     "name": "stdout",
     "output_type": "stream",
     "text": [
      "shape of a: (3,)\n",
      "shape of b: (2, 2)\n",
      "data type of a: int64\n",
      "dimension of a: 1\n",
      "size of a: 3\n"
     ]
    }
   ],
   "source": [
    "print(\"shape of a:\",a.shape)\n",
    "print(\"shape of b:\",b.shape)\n",
    "print(\"data type of a:\",a.dtype)\n",
    "print(\"dimension of a:\",a.ndim)\n",
    "print(\"size of a:\",a.size)"
   ]
  },
  {
   "cell_type": "markdown",
   "id": "c08a747f-e507-4f37-b2c0-f3aca8bf63fa",
   "metadata": {},
   "source": [
    "## INDEXING AND SLICING "
   ]
  },
  {
   "cell_type": "code",
   "execution_count": 6,
   "id": "01653490-eedc-4965-8a92-7b227e1868e3",
   "metadata": {},
   "outputs": [
    {
     "name": "stdout",
     "output_type": "stream",
     "text": [
      "element at b[0,1]: 2\n",
      "secomd column of b: [2 4]\n",
      "first row of b: [1 2]\n"
     ]
    }
   ],
   "source": [
    "print(\"element at b[0,1]:\",b[0,1])\n",
    "print(\"secomd column of b:\",b[:,1])\n",
    "print(\"first row of b:\",b[0,:])"
   ]
  }
 ],
 "metadata": {
  "kernelspec": {
   "display_name": "Python 3 (ipykernel)",
   "language": "python",
   "name": "python3"
  },
  "language_info": {
   "codemirror_mode": {
    "name": "ipython",
    "version": 3
   },
   "file_extension": ".py",
   "mimetype": "text/x-python",
   "name": "python",
   "nbconvert_exporter": "python",
   "pygments_lexer": "ipython3",
   "version": "3.13.0"
  }
 },
 "nbformat": 4,
 "nbformat_minor": 5
}
