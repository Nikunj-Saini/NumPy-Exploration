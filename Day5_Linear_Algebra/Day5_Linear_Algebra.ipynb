{ 
 "cells": [
  {
   "cell_type": "markdown",
   "id": "b514c36d-a0d3-4145-987d-a5776f1a9306",
   "metadata": {},
   "source": [
    " ## 1. Matrix Multiplication: dot() and @"
   ]
  },
  {
   "cell_type": "code",
   "execution_count": 1,
   "id": "e895074d-3f4c-4e78-9e8b-92c896737092",
   "metadata": {},
   "outputs": [],
   "source": [
    "import numpy as np "
   ]
  },
  {
   "cell_type": "code",
   "execution_count": 3,
   "id": "63c547c4-a06b-4c1a-802d-70f7b86a2094",
   "metadata": {},
   "outputs": [
    {
     "name": "stdout",
     "output_type": "stream",
     "text": [
      "[[19 22]\n",
      " [43 50]]\n",
      "[[19 22]\n",
      " [43 50]]\n"
     ]
    }
   ],
   "source": [
    "a = np.array([[1,2],[3,4]])\n",
    "b= np.array([[5,6],[7,8]])\n",
    "\n",
    "print(np.dot(a,b))\n",
    "print(a @ b )"
   ]
  },
  {
   "cell_type": "markdown",
   "id": "44f83f4e-8b1f-4702-ae48-1dd1504f26db",
   "metadata": {},
   "source": [
    "## 2. Transpose: T"
   ]
  },
  {
   "cell_type": "code",
   "execution_count": 4,
   "id": "6354f9c1-dac1-4894-a02c-a5a8fda77a71",
   "metadata": {},
   "outputs": [
    {
     "name": "stdout",
     "output_type": "stream",
     "text": [
      "[[1 3]\n",
      " [2 4]]\n",
      "[[5 7]\n",
      " [6 8]]\n"
     ]
    }
   ],
   "source": [
    "print(a.T)\n",
    "print(b.T)"
   ]
  },
  {
   "cell_type": "markdown",
   "id": "66fe82f4-2f02-4fe1-ad43-7c666213595b",
   "metadata": {},
   "source": [
    "##  3. Identity Matrix: np.eye()"
   ]
  },
  {
   "cell_type": "code",
   "execution_count": 7,
   "id": "2269f296-f2ef-4317-b24e-6d778fb7006f",
   "metadata": {},
   "outputs": [
    {
     "name": "stdout",
     "output_type": "stream",
     "text": [
      "[[1. 0. 0.]\n",
      " [0. 1. 0.]\n",
      " [0. 0. 1.]]\n",
      "[[1. 0. 0. 0. 0. 0.]\n",
      " [0. 1. 0. 0. 0. 0.]\n",
      " [0. 0. 1. 0. 0. 0.]\n",
      " [0. 0. 0. 1. 0. 0.]\n",
      " [0. 0. 0. 0. 1. 0.]\n",
      " [0. 0. 0. 0. 0. 1.]]\n"
     ]
    }
   ],
   "source": [
    "Identity = np.eye(3)\n",
    "print(Identity)\n",
    "\n",
    "Identity_2 = np.eye(6)\n",
    "print(Identity_2)"
   ]
  },
  {
   "cell_type": "markdown",
   "id": "09baf3a0-b551-46a1-86d2-4d4e61b59d52",
   "metadata": {},
   "source": [
    "##  4. Determinant: np.linalg.det()"
   ]
  },
  {
   "cell_type": "code",
   "execution_count": 11,
   "id": "e9afe78e-06e8-469d-a6d3-ab282394f436",
   "metadata": {},
   "outputs": [
    {
     "name": "stdout",
     "output_type": "stream",
     "text": [
      "-2.0000000000000004\n"
     ]
    }
   ],
   "source": [
    "Determinant_1 = np.linalg.det(a)\n",
    "print(Determinant_1)"
   ]
  },
  {
   "cell_type": "markdown",
   "id": "90570235-7e63-4f0d-baa7-1447a38e4f46",
   "metadata": {},
   "source": [
    "##  5. Inverse of a Matrix: np.linalg.inv()"
   ]
  },
  {
   "cell_type": "code",
   "execution_count": 12,
   "id": "26f62343-de32-4a37-98b9-ca2eb3f3b779",
   "metadata": {},
   "outputs": [
    {
     "name": "stdout",
     "output_type": "stream",
     "text": [
      "[[-2.   1. ]\n",
      " [ 1.5 -0.5]]\n"
     ]
    }
   ],
   "source": [
    "inv_a = np.linalg.inv(a)\n",
    "print(inv_a)"
   ]
  },
  {
   "cell_type": "markdown",
   "id": "4eaf5a5b-30b3-43d7-b0e8-6794d70bbfa0",
   "metadata": {},
   "source": [
    " Verify: A × A⁻¹ = Identity"
   ]
  },
  {
   "cell_type": "code",
   "execution_count": 13,
   "id": "1a8a5654-161e-4bc8-a6f7-a3940211acc3",
   "metadata": {},
   "outputs": [
    {
     "name": "stdout",
     "output_type": "stream",
     "text": [
      "[[1.0000000e+00 0.0000000e+00]\n",
      " [8.8817842e-16 1.0000000e+00]]\n"
     ]
    }
   ],
   "source": [
    "print(np.dot(a, inv_a))"
   ]
  },
  {
   "cell_type": "markdown",
   "id": "2bc7a56b-e508-4981-a761-5e0bdcac7d25",
   "metadata": {},
   "source": [
    "##  6. Solving Linear Equations: np.linalg.solve()"
   ]
  },
  {
   "cell_type": "code",
   "execution_count": 14,
   "id": "e9a6419e-7043-4a2d-af5d-b9bf8c0db298",
   "metadata": {},
   "outputs": [
    {
     "name": "stdout",
     "output_type": "stream",
     "text": [
      "[2.8 2.4]\n"
     ]
    }
   ],
   "source": [
    "A = np.array([[2, 1], [3, 4]])\n",
    "B = np.array([8, 18])\n",
    "\n",
    "X = np.linalg.solve(A, B)\n",
    "print(X)  \n",
    "# [2. 4.] → x=2, y=4\n"
   ]
  },
  {
   "cell_type": "code",
   "execution_count": null,
   "id": "01d6036c-a60e-4a77-a26f-c0835a3c915e",
   "metadata": {},
   "outputs": [],
   "source": []
  }
 ],
 "metadata": {
  "kernelspec": {
   "display_name": "Python 3 (ipykernel)",
   "language": "python",
   "name": "python3"
  },
  "language_info": {
   "codemirror_mode": {
    "name": "ipython",
    "version": 3
   },
   "file_extension": ".py",
   "mimetype": "text/x-python",
   "name": "python",
   "nbconvert_exporter": "python",
   "pygments_lexer": "ipython3",
   "version": "3.13.0"
  }
 },
 "nbformat": 4,
 "nbformat_minor": 5
}
